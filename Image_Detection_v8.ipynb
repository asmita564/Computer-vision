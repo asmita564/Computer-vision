{
  "nbformat": 4,
  "nbformat_minor": 0,
  "metadata": {
    "colab": {
      "provenance": []
    },
    "kernelspec": {
      "name": "python3",
      "display_name": "Python 3"
    },
    "language_info": {
      "name": "python"
    }
  },
  "cells": [
    {
      "cell_type": "code",
      "execution_count": null,
      "metadata": {
        "id": "hElfpRZ0Z2po"
      },
      "outputs": [],
      "source": [
        "!pip install ultralytics"
      ]
    },
    {
      "cell_type": "code",
      "source": [
        "import os\n",
        "import shutil\n",
        "import random"
      ],
      "metadata": {
        "id": "rBHaNtylaAHz"
      },
      "execution_count": null,
      "outputs": []
    },
    {
      "cell_type": "code",
      "source": [
        "!pip install tqdm --upgrade\n",
        "from tqdm.notebook import tqdm"
      ],
      "metadata": {
        "id": "B25YhJBhaR7A"
      },
      "execution_count": null,
      "outputs": []
    },
    {
      "cell_type": "code",
      "source": [
        "from google.colab import drive\n",
        "drive.mount ('/content/drive')"
      ],
      "metadata": {
        "colab": {
          "base_uri": "https://localhost:8080/"
        },
        "id": "WbbtKXGRahaR",
        "outputId": "2de9ac7e-26ec-4c66-9314-bd80d7c89220"
      },
      "execution_count": null,
      "outputs": [
        {
          "output_type": "stream",
          "name": "stdout",
          "text": [
            "Mounted at /content/drive\n"
          ]
        }
      ]
    },
    {
      "cell_type": "code",
      "source": [
        "train_path_img = \"/content/drive/MyDrive/yolov8/train/images\"\n",
        "train_path_labels = \"/content/drive/MyDrive/yolov8/train/labals\"\n",
        "val_path_img = \"/content/drive/MyDrive/yolov8/val/images\"\n",
        "val_path_labels = \"/content/drive/MyDrive/yolov8/val/labals\"\n",
        "test_path = \"/content/drive/MyDrive/yolov8/test\""
      ],
      "metadata": {
        "id": "SkHjOZh-a6tS"
      },
      "execution_count": null,
      "outputs": []
    },
    {
      "cell_type": "code",
      "source": [
        "def train_test_split(path,neg_path=None, split = 0.2):\n",
        "  print (\"------ [PROCESS STARTED ------\")\n",
        ""
      ],
      "metadata": {
        "id": "Nbbm6zYeb5OS"
      },
      "execution_count": null,
      "outputs": []
    },
    {
      "cell_type": "code",
      "source": [
        "files = list(set([name[:-4] for name in os.listdir('/content/drive/MyDrive/yolov8/test')]))\n",
        "print (f'--- This folder has a total number of {len(files)} images---')\n",
        "random.seed(42)\n",
        "random.shuffle(files)"
      ],
      "metadata": {
        "colab": {
          "base_uri": "https://localhost:8080/"
        },
        "id": "9z1fjcKOcvbh",
        "outputId": "3659c23e-e1c0-405c-cd83-12274dcaa0da"
      },
      "execution_count": null,
      "outputs": [
        {
          "output_type": "stream",
          "name": "stdout",
          "text": [
            "--- This folder has a total number of 104 images---\n"
          ]
        }
      ]
    },
    {
      "cell_type": "code",
      "source": [
        "from sklearn.model_selection import train_test_split"
      ],
      "metadata": {
        "id": "-qQntfV_x7lD"
      },
      "execution_count": null,
      "outputs": []
    },
    {
      "cell_type": "code",
      "source": [
        "test_size = int(len(files)*split(' ,')[0])\n",
        "#test_size = int(len(files)*string.split(sys.argv[0], ','))\n",
        "train_size = len(files) - test_size\n",
        "#string.split(sys.argv[2], ',')"
      ],
      "metadata": {
        "id": "m9hZkHhMdgj6"
      },
      "execution_count": null,
      "outputs": []
    },
    {
      "cell_type": "code",
      "source": [
        "os.makedirs(train_path_img, exist_ok= True)\n",
        "os.makedirs(train_path_labels, exist_ok= True)\n",
        "os.makedirs(val_path_img, exist_ok= True)\n",
        "os.makedirs(val_path_labels, exist_ok= True)"
      ],
      "metadata": {
        "id": "19rPicP7fLk-"
      },
      "execution_count": null,
      "outputs": []
    },
    {
      "cell_type": "code",
      "source": [
        "for filex in tqdm(files[:train_size]):\n",
        "  if filex == 'classes':\n",
        "    continue\n",
        "    shutil.copy2(path + filex + '.jpg',f\"{train_path_img}/\" + filex + '.jpg')\n",
        "    shutil.copy2(path + filex + '.txt',f\"{train_path_labels}/\" + filex + '.txt')"
      ],
      "metadata": {
        "id": "U0V5nYa-k8Gq"
      },
      "execution_count": null,
      "outputs": []
    },
    {
      "cell_type": "code",
      "source": [
        "print(f\"------ Training data created with 80%\" split {len(files[:train_size])} images ------\")"
      ],
      "metadata": {
        "id": "Q8WY3WPAmS3L"
      },
      "execution_count": null,
      "outputs": []
    },
    {
      "cell_type": "code",
      "source": [
        "if neg_path:\n",
        "  neg_images = list(set([name[:4] for name in os.listdir(neg_path)]))\n",
        "  for filex in tqdm(neg_images):\n",
        "    shutil.copy2(neg_path+filex+ \".jpg\", f\"{train_path_img}/\" + filex + '.jpg')\n",
        "    print(f\"------ Total {len(neg_images)} negative images added to the training data ------\")\n",
        "    print(f\"------ Total Training data created with {len(files[:train_size]) + len(neg_images)} images ------\")"
      ],
      "metadata": {
        "id": "toTW-0pToN0G"
      },
      "execution_count": null,
      "outputs": []
    },
    {
      "cell_type": "code",
      "source": [
        "for filex in tqdm(files[train_size:]):\n",
        "  if filex == 'classes':\n",
        "    continue\n",
        "shutil.copy2(path + filex + '.jpg',f\"{val_path_img}/\" + filex + '.jpg')\n",
        "shutil.copy2(path + filex + '.txt',f\"{val_path_labels}/\" + filex + '.txt')\n",
        "\n",
        "print(f\"------ Testing data created with a total of {len(files[train_size:])} images ---------\")\n",
        "print(\"------TASK COMPLETED -------\")"
      ],
      "metadata": {
        "id": "Tw_m6bSlqTZV"
      },
      "execution_count": null,
      "outputs": []
    },
    {
      "cell_type": "code",
      "source": [
        "train_test_split('/content/drive/MyDrive/yolov8/test')"
      ],
      "metadata": {
        "colab": {
          "base_uri": "https://localhost:8080/"
        },
        "id": "uQwuOf54se5O",
        "outputId": "d2793114-6034-4465-d4d4-d448f7c6ee34"
      },
      "execution_count": null,
      "outputs": [
        {
          "output_type": "stream",
          "name": "stdout",
          "text": [
            "------ [PROCESS STARTED ------\n"
          ]
        }
      ]
    }
  ]
}